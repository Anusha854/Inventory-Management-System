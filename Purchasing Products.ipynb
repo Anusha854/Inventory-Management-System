{
 "cells": [
  {
   "cell_type": "code",
   "execution_count": 2,
   "metadata": {},
   "outputs": [],
   "source": [
    "import json\n",
    "\n",
    "fd = open(\"record.json\",'r')\n",
    "r = fd.read()\n",
    "fd.close()\n",
    "\n",
    "record= json.loads(r)"
   ]
  },
  {
   "cell_type": "code",
   "execution_count": 3,
   "metadata": {},
   "outputs": [
    {
     "data": {
      "text/plain": [
       "{'1001': {'name': 'DairyMilk Chocolate ',\n",
       "  'cost': '45',\n",
       "  'Quantity': '25',\n",
       "  'Weight': '50g',\n",
       "  'CompanyName': 'DairyMilk'},\n",
       " '1002': {'name': 'Kitkat Chocolate',\n",
       "  'cost': '70',\n",
       "  'Quantity': '25',\n",
       "  'Weight': '50g',\n",
       "  'CompanyName': 'KitKat'},\n",
       " '1003': {'name': 'Snickers Familypack',\n",
       "  'cost': '100',\n",
       "  'Quantity': '10',\n",
       "  'Weight': '150g',\n",
       "  'CompanyName': 'Snickers'},\n",
       " '1004': {'name': 'Lays',\n",
       "  'cost': '20',\n",
       "  'Quantity': '100',\n",
       "  'Weight': '50g',\n",
       "  'CompanyName': 'Lays'},\n",
       " '1005': {'name': 'Bingo chips',\n",
       "  'cost': '20',\n",
       "  'Quantity': '100',\n",
       "  'Weight': '45g',\n",
       "  'CompanyName': 'Bingo'},\n",
       " '1006': {'name': 'Honey',\n",
       "  'cost': '315',\n",
       "  'Quantity': '15',\n",
       "  'Weight': '1L',\n",
       "  'CompanyName': 'Dabur'},\n",
       " '1007': {'name': 'Hide N Seek',\n",
       "  'cost': '30',\n",
       "  'Quantity': '20',\n",
       "  'Weight': '120',\n",
       "  'CompanyName': 'Parle'},\n",
       " '1008': {'name': 'Dark Fantasy',\n",
       "  'cost': '240',\n",
       "  'Quantity': '10',\n",
       "  'Weight': '500g',\n",
       "  'CompanyName': 'SunFeast'},\n",
       " '1009': {'name': 'Meera Shampoo',\n",
       "  'cost': '80',\n",
       "  'Quantity': '20',\n",
       "  'Weight': '100ml',\n",
       "  'CompanyName': 'Meera'},\n",
       " '1010': {'name': 'Dove Hair Conditioner',\n",
       "  'cost': '230',\n",
       "  'Quantity': '20',\n",
       "  'Weight': '500ml',\n",
       "  'CompanyName': 'Dove'},\n",
       " '1011': {'name': 'Mysore Sandal Soap',\n",
       "  'cost': '220',\n",
       "  'Quantity': '20',\n",
       "  'Weight': '450g',\n",
       "  'CompanyName': 'Mysore sandal'},\n",
       " '1012': {'name': 'Santoor SandalWood Soap',\n",
       "  'cost': '270',\n",
       "  'Quantity': '20',\n",
       "  'Weight': '175g',\n",
       "  'CompanyName': 'Santoor'},\n",
       " '1013': {'name': 'Rice',\n",
       "  'cost': '50',\n",
       "  'Quantity': '30',\n",
       "  'Weight': '1Kg',\n",
       "  'CompanyName': 'Daawat'},\n",
       " '1014': {'name': 'Basmati Rice',\n",
       "  'cost': '90',\n",
       "  'Quantity': '15',\n",
       "  'Weight': '1Kg',\n",
       "  'CompanyName': 'Daawat'},\n",
       " '1015': {'name': 'Freedom Cooking Oil',\n",
       "  'cost': '160',\n",
       "  'Quantity': '20',\n",
       "  'Weight': '1L',\n",
       "  'CompanyName': 'Sunflower'},\n",
       " '1016': {'name': 'Priya Groundnut Oil',\n",
       "  'cost': '140',\n",
       "  'Quantity': '20',\n",
       "  'Weight': '1L',\n",
       "  'CompanyName': 'Priya'},\n",
       " '1017': {'name': 'Horlicks',\n",
       "  'cost': '380',\n",
       "  'Quantity': '20',\n",
       "  'Weight': '1kg',\n",
       "  'CompanyName': 'Horlicks'},\n",
       " '1018': {'name': 'Cadbury Chocolate Powder ',\n",
       "  'cost': '140',\n",
       "  'Quantity': '30',\n",
       "  'Weight': '200g',\n",
       "  'CompanyName': 'Cadbury'},\n",
       " '1019': {'name': 'Ferrero Roacher Chocolate',\n",
       "  'cost': '400',\n",
       "  'Quantity': '10',\n",
       "  'Weight': '150g',\n",
       "  'CompanyName': 'Ferrero Roacher'},\n",
       " '1020': {'name': 'Cadbury Celbrations Chocolate',\n",
       "  'cost': '460',\n",
       "  'Quantity': '10',\n",
       "  'Weight': '180g',\n",
       "  'CompanyName': 'Cadbury'},\n",
       " '1021': {'name': 'Red Bull Energy Drink',\n",
       "  'cost': '50',\n",
       "  'Quantity': '30',\n",
       "  'Weight': '70ml',\n",
       "  'CompanyName': 'Red Bull'},\n",
       " '1022': {'name': 'Pulpy Orange Drink',\n",
       "  'cost': '120',\n",
       "  'Quantity': '30',\n",
       "  'Weight': '250ml',\n",
       "  'CompanyName': 'Minute Maid'},\n",
       " '1023': {'name': 'Mixed Fruit Juice',\n",
       "  'cost': '220',\n",
       "  'Quantity': '20',\n",
       "  'Weight': '1L',\n",
       "  'CompanyName': 'B Natural'},\n",
       " '1024': {'name': 'Sprite Soft Drink',\n",
       "  'cost': '130',\n",
       "  'Quantity': '20',\n",
       "  'Weight': '250ml',\n",
       "  'CompanyName': 'Sprite'},\n",
       " '1025': {'name': 'Choco Pie',\n",
       "  'cost': '120',\n",
       "  'Quantity': '20',\n",
       "  'Weight': '100g',\n",
       "  'CompanyName': 'Lotte'},\n",
       " '1026': {'name': 'Oreo Biscuits',\n",
       "  'cost': '80',\n",
       "  'Quantity': '30',\n",
       "  'Weight': '300g',\n",
       "  'CompanyName': 'Cadbury'},\n",
       " '1027': {'name': 'Milk Bikies',\n",
       "  'cost': '40',\n",
       "  'Quantity': '30',\n",
       "  'Weight': '200g',\n",
       "  'CompanyName': 'Britania'},\n",
       " '1028': {'name': 'Unibic Cookies',\n",
       "  'cost': '25',\n",
       "  'Quantity': '30',\n",
       "  'Weight': '100g',\n",
       "  'CompanyName': 'Unibic'},\n",
       " '1029': {'name': 'Little Heart Biscuits',\n",
       "  'cost': '25',\n",
       "  'Quantity': '30',\n",
       "  'Weight': '100g',\n",
       "  'CompanyName': 'Britannia'},\n",
       " '1030': {'name': 'Popcorn',\n",
       "  'cost': '25',\n",
       "  'Quantity': '20',\n",
       "  'Weight': '100g',\n",
       "  'CompanyName': 'Act 2'}}"
      ]
     },
     "execution_count": 3,
     "metadata": {},
     "output_type": "execute_result"
    }
   ],
   "source": [
    "record"
   ]
  },
  {
   "cell_type": "markdown",
   "metadata": {},
   "source": [
    "## Purchasing Products"
   ]
  },
  {
   "cell_type": "code",
   "execution_count": 20,
   "metadata": {},
   "outputs": [
    {
     "name": "stdout",
     "output_type": "stream",
     "text": [
      "Enter the product_Id: 1005\n",
      "Enter the quantity: 2\n",
      "Product:  Bingo chips\n",
      "Price:  20\n",
      "Billing Amount:  40\n"
     ]
    }
   ],
   "source": [
    "ui_prod  = input(\"Enter the product_Id: \")\n",
    "ui_quant = int(input(\"Enter the quantity: \"))\n",
    "\n",
    "\n",
    "print(\"Product: \", record[ui_prod]['name'])\n",
    "print(\"Price: \", record[ui_prod]['cost'])\n",
    "print(\"Billing Amount: \", int(record[ui_prod]['cost']) * ui_quant)\n",
    "\n",
    "record[ui_prod]['Quantity'] = str(int(record[ui_prod]['Quantity']) - ui_quant)"
   ]
  },
  {
   "cell_type": "markdown",
   "metadata": {},
   "source": [
    "## updating inventory after purchase"
   ]
  },
  {
   "cell_type": "code",
   "execution_count": 21,
   "metadata": {},
   "outputs": [],
   "source": [
    "js = json.dumps(record)\n",
    "\n",
    "fd = open(\"record.json\",'w')\n",
    "fd.write(js)\n",
    "fd.close()"
   ]
  },
  {
   "cell_type": "code",
   "execution_count": 22,
   "metadata": {},
   "outputs": [
    {
     "data": {
      "text/plain": [
       "{'name': 'Bingo chips',\n",
       " 'cost': '20',\n",
       " 'Quantity': '98',\n",
       " 'Weight': '45g',\n",
       " 'CompanyName': 'Bingo'}"
      ]
     },
     "execution_count": 22,
     "metadata": {},
     "output_type": "execute_result"
    }
   ],
   "source": [
    "record['1005']"
   ]
  },
  {
   "cell_type": "markdown",
   "metadata": {},
   "source": [
    "## Sales JSON"
   ]
  },
  {
   "cell_type": "code",
   "execution_count": 15,
   "metadata": {},
   "outputs": [],
   "source": [
    "salesrec={}\n",
    "trans_id=1001"
   ]
  },
  {
   "cell_type": "code",
   "execution_count": 16,
   "metadata": {},
   "outputs": [],
   "source": [
    "import time"
   ]
  },
  {
   "cell_type": "code",
   "execution_count": 23,
   "metadata": {},
   "outputs": [],
   "source": [
    "\n",
    "salesrec[trans_id]={'prod_id':ui_prod,'name':record[ui_prod]['name'],'Price':int(record[ui_prod]['cost']) * ui_quant,'quantity':ui_quant,'time':time.ctime()}\n",
    "trans_id=trans_id+1\n",
    "js=json.dumps(salesrec)\n",
    "fp=open(\"sales.json\",'w')\n",
    "fp.write(js)\n",
    "fp.close()"
   ]
  },
  {
   "cell_type": "code",
   "execution_count": 24,
   "metadata": {},
   "outputs": [
    {
     "data": {
      "text/plain": [
       "{1001: {'prod_id': '1001',\n",
       "  'name': 'DairyMilk Chocolate ',\n",
       "  'Price': 90,\n",
       "  'quantity': 2,\n",
       "  'time': 'Sun Sep  5 16:15:04 2021'},\n",
       " 1002: {'prod_id': '1005',\n",
       "  'name': 'Bingo chips',\n",
       "  'Price': 40,\n",
       "  'quantity': 2,\n",
       "  'time': 'Sun Sep  5 16:16:32 2021'}}"
      ]
     },
     "execution_count": 24,
     "metadata": {},
     "output_type": "execute_result"
    }
   ],
   "source": [
    "salesrec"
   ]
  },
  {
   "cell_type": "code",
   "execution_count": null,
   "metadata": {},
   "outputs": [],
   "source": []
  }
 ],
 "metadata": {
  "kernelspec": {
   "display_name": "Python 3",
   "language": "python",
   "name": "python3"
  },
  "language_info": {
   "codemirror_mode": {
    "name": "ipython",
    "version": 3
   },
   "file_extension": ".py",
   "mimetype": "text/x-python",
   "name": "python",
   "nbconvert_exporter": "python",
   "pygments_lexer": "ipython3",
   "version": "3.7.4"
  }
 },
 "nbformat": 4,
 "nbformat_minor": 2
}
