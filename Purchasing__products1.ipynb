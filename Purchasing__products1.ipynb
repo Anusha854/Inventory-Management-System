{
  "nbformat": 4,
  "nbformat_minor": 0,
  "metadata": {
    "colab": {
      "name": "Purchasing _products1.ipynb",
      "provenance": [],
      "collapsed_sections": []
    },
    "kernelspec": {
      "name": "python3",
      "display_name": "Python 3"
    },
    "language_info": {
      "name": "python"
    }
  },
  "cells": [
    {
      "cell_type": "code",
      "metadata": {
        "id": "KLDSS_cVWrId"
      },
      "source": [
        "import json\n",
        "fd=open(\"record.json\",'r')\n",
        "r=fd.read()\n",
        "fd.close()\n",
        "records=json.loads(r)"
      ],
      "execution_count": null,
      "outputs": []
    },
    {
      "cell_type": "code",
      "metadata": {
        "colab": {
          "base_uri": "https://localhost:8080/"
        },
        "id": "FSrT_-hhXWot",
        "outputId": "b82b1d62-a196-49a8-9976-870a918559f2"
      },
      "source": [
        "records"
      ],
      "execution_count": null,
      "outputs": [
        {
          "output_type": "execute_result",
          "data": {
            "text/plain": [
              "{'1001': {'Quantity': '10',\n",
              "  'Weight': '50g',\n",
              "  'cost': '314',\n",
              "  'name': 'Honey',\n",
              "  'tax': '5%'},\n",
              " '1002': {'Quantity': '20',\n",
              "  'Weight': '100g',\n",
              "  'cost': '85',\n",
              "  'name': 'glucose',\n",
              "  'tax': '4%'},\n",
              " '1003': {'Quantity': '100',\n",
              "  'Weight': '70g',\n",
              "  'cost': '99',\n",
              "  'name': 'snickers',\n",
              "  'tax': '5%'},\n",
              " '1004': {'Quantity': '50',\n",
              "  'Weight': '50g',\n",
              "  'cost': '72',\n",
              "  'name': 'parle hide n seek',\n",
              "  'tax': '10%'},\n",
              " '1005': {'Quantity': '25',\n",
              "  'Weight': '150g',\n",
              "  'cost': '250',\n",
              "  'name': 'butter',\n",
              "  'tax': '12%'},\n",
              " '1006': {'Quantity': '30',\n",
              "  'Weight': '1L',\n",
              "  'cost': '550',\n",
              "  'name': 'cooking oil',\n",
              "  'tax': '20%'},\n",
              " '1007': {'Quantity': '15',\n",
              "  'Weight': '120g',\n",
              "  'cost': '120',\n",
              "  'name': 'Eggs',\n",
              "  'tax': '5%'},\n",
              " '1008': {'Quantity': '40',\n",
              "  'Weight': '130g',\n",
              "  'cost': '300',\n",
              "  'name': 'cheese',\n",
              "  'tax': '10%'},\n",
              " '1009': {'Quantity': '100',\n",
              "  'Weight': 'lkg',\n",
              "  'cost': '200',\n",
              "  'name': 'onions',\n",
              "  'tax': '15%'},\n",
              " '1010': {'Quantity': '50',\n",
              "  'Weight': '250g',\n",
              "  'cost': '90',\n",
              "  'name': 'Garlic',\n",
              "  'tax': '2%'},\n",
              " '1011': {'Quantity': '150',\n",
              "  'Weight': '2kg',\n",
              "  'cost': '210',\n",
              "  'name': 'vegetables',\n",
              "  'tax': '7%'},\n",
              " '1012': {'Quantity': '20',\n",
              "  'Weight': '2L',\n",
              "  'cost': '170',\n",
              "  'name': 'Yogurt',\n",
              "  'tax': '5%'},\n",
              " '1013': {'Quantity': '80',\n",
              "  'Weight': '550g',\n",
              "  'cost': '350',\n",
              "  'name': 'nuts',\n",
              "  'tax': '20%'},\n",
              " '1014': {'Quantity': '150',\n",
              "  'Weight': '250g',\n",
              "  'cost': '450',\n",
              "  'name': 'sugar',\n",
              "  'tax': '10%'},\n",
              " '1015': {'Quantity': '130',\n",
              "  'Weight': '50g',\n",
              "  'cost': '230',\n",
              "  'name': 'bread',\n",
              "  'tax': '5%'},\n",
              " '1016': {'Quantity': '20',\n",
              "  'Weight': '150g',\n",
              "  'cost': '220',\n",
              "  'name': 'salt',\n",
              "  'tax': '10%'},\n",
              " '1017': {'Quantity': '100',\n",
              "  'Weight': '1kg',\n",
              "  'cost': '750',\n",
              "  'name': 'blackgram',\n",
              "  'tax': '10%'},\n",
              " '1018': {'Quantity': '120',\n",
              "  'Weight': '1.5kg',\n",
              "  'cost': '880',\n",
              "  'name': 'redgram',\n",
              "  'tax': '15%'},\n",
              " '1019': {'Quantity': '130',\n",
              "  'Weight': '2kg',\n",
              "  'cost': '850',\n",
              "  'name': 'greengram',\n",
              "  'tax': '20%'},\n",
              " '1020': {'Quantity': '20',\n",
              "  'Weight': '100g',\n",
              "  'cost': '550',\n",
              "  'name': 'pasta',\n",
              "  'tax': '15%'},\n",
              " '1021': {'Quantity': '30',\n",
              "  'Weight': '2L',\n",
              "  'cost': '50',\n",
              "  'name': 'milk',\n",
              "  'tax': '20%'},\n",
              " '1022': {'Quantity': '70',\n",
              "  'Weight': '550g',\n",
              "  'cost': '180',\n",
              "  'name': 'fruit',\n",
              "  'tax': '30%'},\n",
              " '1023': {'Quantity': '20',\n",
              "  'Weight': '50g',\n",
              "  'cost': '20',\n",
              "  'name': 'vinegar',\n",
              "  'tax': '20%'},\n",
              " '1024': {'Quantity': '70',\n",
              "  'Weight': '20g',\n",
              "  'cost': '50',\n",
              "  'name': 'chocolates',\n",
              "  'tax': '5%'},\n",
              " '1025': {'Quantity': '80',\n",
              "  'Weight': '80g',\n",
              "  'cost': '80',\n",
              "  'name': 'salty snaks',\n",
              "  'tax': '10%'},\n",
              " '1026': {'Quantity': '110',\n",
              "  'Weight': '250g',\n",
              "  'cost': '210',\n",
              "  'name': 'chilli powder',\n",
              "  'tax': '20%'},\n",
              " '1027': {'Quantity': '100',\n",
              "  'Weight': '300g',\n",
              "  'cost': '330',\n",
              "  'name': 'dryfruits',\n",
              "  'tax': '30%'},\n",
              " '1028': {'Quantity': '150',\n",
              "  'Weight': '2kg',\n",
              "  'cost': '1000',\n",
              "  'name': 'rice',\n",
              "  'tax': '30%'},\n",
              " '1029': {'Quantity': '20',\n",
              "  'Weight': '100g',\n",
              "  'cost': '50',\n",
              "  'name': 'pepper',\n",
              "  'tax': '10%'},\n",
              " '1030': {'Quantity': '50',\n",
              "  'Weight': '20g',\n",
              "  'cost': '550',\n",
              "  'name': 'breakfast cereal',\n",
              "  'tax': '5%'}}"
            ]
          },
          "metadata": {},
          "execution_count": 5
        }
      ]
    },
    {
      "cell_type": "markdown",
      "metadata": {
        "id": "87NprFW9Xfqu"
      },
      "source": [
        "**Purchases**"
      ]
    },
    {
      "cell_type": "code",
      "metadata": {
        "colab": {
          "base_uri": "https://localhost:8080/"
        },
        "id": "9J0bolj2XbU1",
        "outputId": "2dfc7586-3756-42a7-cc6f-f9de180809bf"
      },
      "source": [
        "ui_prod = input(\"Enter the product id:\")\n",
        "ui_quant = int(input(\"Enter Quantity:\"))\n",
        "print(\"product:\",records[ui_prod]['name'])\n",
        "print(\"price : \" , records[ui_prod]['cost'])\n",
        "print(\"Billing Amount : \" , int(records[ui_prod]['cost']) * ui_quant)\n",
        "\n",
        "records[ui_prod]['Quantity'] = str(int(records[ui_prod]['Quantity']) - ui_quant)"
      ],
      "execution_count": null,
      "outputs": [
        {
          "output_type": "stream",
          "name": "stdout",
          "text": [
            "Enter the product id:1001\n",
            "Enter Quantity:4\n",
            "product: Honey\n",
            "price :  314\n",
            "Billing Amount :  1256\n"
          ]
        }
      ]
    },
    {
      "cell_type": "markdown",
      "metadata": {
        "id": "sSJlnlFeaPpf"
      },
      "source": [
        "**Update INventory After Purchase**"
      ]
    },
    {
      "cell_type": "code",
      "metadata": {
        "id": "yN8W_IDcaaR8"
      },
      "source": [
        "js=json.dumps(records)\n",
        "\n",
        "fd=open('record.json','w')\n",
        "fd.write(js)\n",
        "fd.close()"
      ],
      "execution_count": null,
      "outputs": []
    },
    {
      "cell_type": "code",
      "metadata": {
        "colab": {
          "base_uri": "https://localhost:8080/"
        },
        "id": "xfRwlFl-cE6B",
        "outputId": "6407360b-cc6e-4dc1-af02-1241f4184922"
      },
      "source": [
        "records['1001']"
      ],
      "execution_count": null,
      "outputs": [
        {
          "output_type": "execute_result",
          "data": {
            "text/plain": [
              "{'Quantity': '6', 'Weight': '50g', 'cost': '314', 'name': 'Honey', 'tax': '5%'}"
            ]
          },
          "metadata": {},
          "execution_count": 8
        }
      ]
    },
    {
      "cell_type": "markdown",
      "metadata": {
        "id": "w8zaMhzrbDTp"
      },
      "source": [
        "**Sales Json**"
      ]
    },
    {
      "cell_type": "code",
      "metadata": {
        "id": "5yhqsz6Hc5VW"
      },
      "source": [
        "sales = {1 : {'prod' : ui_prod, 'qn' : ui_quant, 'amount': int(records[ui_prod]['cost']) * ui_quant},\n",
        "         2 : {'prod' : ui_prod, 'qn' : ui_quant, 'amount': int(records[ui_prod]['cost'])* ui_quant},\n",
        "         3 : {'prod' : ui_prod, 'qn' : ui_quant, 'amount': int(records[ui_prod]['cost']) * ui_quant}}"
      ],
      "execution_count": null,
      "outputs": []
    },
    {
      "cell_type": "code",
      "metadata": {
        "id": "hcS-1TQreL14"
      },
      "source": [
        "sale = json.dumps(sales)"
      ],
      "execution_count": null,
      "outputs": []
    },
    {
      "cell_type": "code",
      "metadata": {
        "colab": {
          "base_uri": "https://localhost:8080/",
          "height": 52
        },
        "id": "rouaEEGBeU5J",
        "outputId": "a7416796-f219-4560-9abc-60c6239ea012"
      },
      "source": [
        "sale"
      ],
      "execution_count": null,
      "outputs": [
        {
          "output_type": "execute_result",
          "data": {
            "application/vnd.google.colaboratory.intrinsic+json": {
              "type": "string"
            },
            "text/plain": [
              "'{\"1\": {\"prod\": \"1001\", \"qn\": 4, \"amount\": 1256}, \"2\": {\"prod\": \"1001\", \"qn\": 4, \"amount\": 1256}, \"3\": {\"prod\": \"1001\", \"qn\": 4, \"amount\": 1256}}'"
            ]
          },
          "metadata": {},
          "execution_count": 12
        }
      ]
    },
    {
      "cell_type": "code",
      "metadata": {
        "id": "2Gl4eniV366e"
      },
      "source": [
        "js=json.dumps(sale)\n",
        "\n",
        "fd=open('sale.json','w')\n",
        "fd.write(js)\n",
        "fd.close()"
      ],
      "execution_count": null,
      "outputs": []
    },
    {
      "cell_type": "code",
      "metadata": {
        "id": "tW8dWlph59cz"
      },
      "source": [
        "import json\n",
        "fd=open(\"sale.json\",'r')\n",
        "r=fd.read()\n",
        "fd.close()\n",
        "sales=json.loads(r)"
      ],
      "execution_count": null,
      "outputs": []
    },
    {
      "cell_type": "code",
      "metadata": {
        "id": "tD1wZ02i6Ihv",
        "colab": {
          "base_uri": "https://localhost:8080/",
          "height": 52
        },
        "outputId": "02067d24-cac1-4af9-ac78-0b16a933d11c"
      },
      "source": [
        "sales"
      ],
      "execution_count": null,
      "outputs": [
        {
          "output_type": "execute_result",
          "data": {
            "application/vnd.google.colaboratory.intrinsic+json": {
              "type": "string"
            },
            "text/plain": [
              "'{\"1\": {\"prod\": \"1001\", \"qn\": 4, \"amount\": 1256}, \"2\": {\"prod\": \"1001\", \"qn\": 4, \"amount\": 1256}, \"3\": {\"prod\": \"1001\", \"qn\": 4, \"amount\": 1256}}'"
            ]
          },
          "metadata": {},
          "execution_count": 15
        }
      ]
    },
    {
      "cell_type": "code",
      "metadata": {
        "id": "nh2cp_ikYRZL"
      },
      "source": [
        "salesrec={}\n",
        "trans_id=1001"
      ],
      "execution_count": null,
      "outputs": []
    },
    {
      "cell_type": "code",
      "metadata": {
        "id": "nBf7Ep9IYB58"
      },
      "source": [
        "import time"
      ],
      "execution_count": null,
      "outputs": []
    },
    {
      "cell_type": "code",
      "metadata": {
        "id": "28kxQM-XXM4l"
      },
      "source": [
        "\n",
        "salesrec[trans_id]={'prod_id':ui_prod,'name':records[ui_prod]['name'],'Price':int(records[ui_prod]['cost']) * ui_quant,'quantity':ui_quant,'time':time.ctime()}\n",
        "trans_id=trans_id+1\n",
        "js=json.dumps(salesrec)\n",
        "fp=open(\"sales.json\",'w')\n",
        "fp.write(js)\n",
        "fp.close()"
      ],
      "execution_count": null,
      "outputs": []
    },
    {
      "cell_type": "code",
      "metadata": {
        "colab": {
          "base_uri": "https://localhost:8080/"
        },
        "id": "N5OzjqsDYeFR",
        "outputId": "7c1a328d-6b45-42de-d466-c845c9ac6af8"
      },
      "source": [
        "salesrec"
      ],
      "execution_count": null,
      "outputs": [
        {
          "output_type": "execute_result",
          "data": {
            "text/plain": [
              "{1001: {'Price': 1256,\n",
              "  'name': 'Honey',\n",
              "  'prod_id': '1001',\n",
              "  'quantity': 4,\n",
              "  'time': 'Sun Sep  5 14:34:42 2021'}}"
            ]
          },
          "metadata": {},
          "execution_count": 22
        }
      ]
    }
  ]
}